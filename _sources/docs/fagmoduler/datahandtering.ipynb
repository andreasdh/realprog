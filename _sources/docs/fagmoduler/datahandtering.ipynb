{
 "cells": [
  {
   "cell_type": "markdown",
   "id": "513285be",
   "metadata": {},
   "source": [
    "## Datahåndtering\n",
    "Et mye brukt bibliotek for datahåndtering er _Pandas_. Det lar oss enkelt lese og utforske data fra råtekstfiler. Her er et eksempel:\n",
    "\n",
    "<iframe src=\"https://trinket.io/embed/python3/07e4100152\" width=\"100%\" height=\"600\" frameborder=\"0\" marginwidth=\"0\" marginheight=\"0\" allowfullscreen></iframe>\n",
    "\n",
    "```{admonition} Fysikkoppgave\n",
    ":class: tip\n",
    "Fila \"solflekker.txt\" beskriver antall solflekker som er observert etter 1. januar 1740. Lag et plott av antall solflekker som funksjon av antall måneder etter januar 1740.\n",
    "```\n",
    "\n",
    "```{admonition} Biologioppgave\n",
    ":class: tip\n",
    "Fila \"pingviner.txt\" inneholder en del informasjon om ulike pingvinarter (bøylepingviner, ringpingviner og adeliepingviner). Bruk datasettet til å plotte nebblengde mot nebbdybde, og diskuter om det er noen sammenheng mellom disse faktorene. Plott andre faktorer mot hverandre og diskuter om dere ser noen sammenhenger mellom disse.\n",
    "```\n",
    "\n",
    "```{admonition} Kjemioppgave\n",
    ":class: tip\n",
    "Fila \"titreringsdata.txt\" inneholder pH og tilsatt volum i en titrering av eddiksyre med NaOH. Plott titrerkurven og legg til egnede aksetitler.\n",
    "```\n",
    "\n",
    "Du kan finne mer informasjon om plotting [her](../tema3_datahandtering/plotting.ipynb) og mer informasjon om hvordan du kan lese og håndtere filer med Pandas [her](../tema3_datahandtering/lese_filer.ipynb)."
   ]
  }
 ],
 "metadata": {
  "kernelspec": {
   "display_name": "Python 3 (ipykernel)",
   "language": "python",
   "name": "python3"
  },
  "language_info": {
   "codemirror_mode": {
    "name": "ipython",
    "version": 3
   },
   "file_extension": ".py",
   "mimetype": "text/x-python",
   "name": "python",
   "nbconvert_exporter": "python",
   "pygments_lexer": "ipython3",
   "version": "3.8.5"
  }
 },
 "nbformat": 4,
 "nbformat_minor": 5
}
