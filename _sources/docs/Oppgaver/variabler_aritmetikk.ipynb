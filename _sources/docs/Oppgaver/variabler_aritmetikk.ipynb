{
 "cells": [
  {
   "cell_type": "markdown",
   "id": "8372f4d6",
   "metadata": {},
   "source": [
    "# Variabler og aritmetikk\n",
    "\n",
    "## Output\n",
    "\n",
    "````{admonition} Eksempeloppgave 1\n",
    ":class: tip\n",
    "Forklar hva følgende kode betyr:\n",
    "\n",
    "```{code-block} Python\n",
    "print(\"Hei, Wanja!\")\n",
    "```\n",
    "````\n",
    "\n",
    "````{admonition} Løsningsforslag\n",
    ":class: tip, dropdown\n",
    "\n",
    "Koden betyr at vi hilser på Wanja.\n",
    "````"
   ]
  },
  {
   "cell_type": "markdown",
   "id": "ebe7f884",
   "metadata": {},
   "source": [
    "## Variabler\n",
    "````{admonition} Oppgave 1.2.1 \n",
    ":class: tip\n",
    "\n",
    "````\n",
    "\n",
    "````{admonition} Løsningsforslag\n",
    ":class: tip, dropdown\n",
    "\n",
    "````"
   ]
  },
  {
   "cell_type": "code",
   "execution_count": 1,
   "id": "34f9e383",
   "metadata": {},
   "outputs": [
    {
     "name": "stdout",
     "output_type": "stream",
     "text": [
      "Hei\n"
     ]
    }
   ],
   "source": [
    "print(\"Hei\")"
   ]
  },
  {
   "cell_type": "code",
   "execution_count": null,
   "id": "7a1f5b38",
   "metadata": {},
   "outputs": [],
   "source": []
  }
 ],
 "metadata": {
  "kernelspec": {
   "display_name": "Python 3 (ipykernel)",
   "language": "python",
   "name": "python3"
  },
  "language_info": {
   "codemirror_mode": {
    "name": "ipython",
    "version": 3
   },
   "file_extension": ".py",
   "mimetype": "text/x-python",
   "name": "python",
   "nbconvert_exporter": "python",
   "pygments_lexer": "ipython3",
   "version": "3.8.5"
  }
 },
 "nbformat": 4,
 "nbformat_minor": 5
}
