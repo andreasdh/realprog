{
 "cells": [
  {
   "cell_type": "markdown",
   "metadata": {},
   "source": [
    "https://trinket.io/embed/python3/2e21ec459f\n",
    "\n",
    "````{admonition} Relevante kompetansemål\n",
    "- forstå begrepene vekstfart, grenseverdi, derivasjon og kontinuitet, og bruke disse for å løse praktiske problemer (R1)\n",
    "- bestemme den deriverte i et punkt geometrisk, algebraisk og ved numeriske metoder, og gi eksempler på funksjoner som ikke er deriverbare i gitte punkter (R1)\n",
    "- analysere og tolke ulike funksjoner ved å bruke derivasjon (R1)\n",
    "````\n",
    "\n",
    "````{admonition} Oppgave\n",
    ":class: tip\n",
    "1. Hva gjør programmet nedenfor? Bruk programmet til å forklare forskjellen på analytisk og numerisk derivasjon.\n",
    "\n",
    "    <iframe src=\"https://trinket.io/embed/python3/2e21ec459f\" width=\"100%\" height=\"600\" frameborder=\"0\" marginwidth=\"0\" marginheight=\"0\" allowfullscreen></iframe>\n",
    "\n",
    "2. Kjør programmet for ulike verdier av _dx_ (eller lag en løkke som repeterer derivasjonen for ulike _dx_). For hvilke verdier av _dx_ får du et brukbart resultat? Hva skjer nå _dx_ blir for stor, og hva skjer når den blir for liten?\n",
    "\n",
    "3. I tilnærmingen til den deriverte ovenfor tar vi utgangspunkt i følgende definisjon:\n",
    "\n",
    "$$f'(x) = \\lim_{dx\\rightarrow 0} \\frac{f(x+dx) - f(x)}{dx}$$\n",
    "\n",
    "Den deriverte representerer stigningen til en tangent igjennom punktet $(x, f(x)$. Dette tilnærmer vi ved å se på stigningen til sekanten mellom to punkter $(x, f(x))$ og $(x + dx, f(x+dx))$ dersom _dx_ er et veldig lite tall:\n",
    "\n",
    "$$f'(x) \\approx \\frac{f(x+dx) - f(x)}{dx}$$\n",
    "\n",
    "Sagt på en annen måte: Vi tilnærmer grenseverdien med et lite tall _dx_ slik at den gjennomsnittlige veksten blir tilnærmet lik den momentane veksten.\n",
    "\n",
    "Her tar vi altså forskjellen mellom neste funksjonsverdi, $f(x+dx)$, og nåværende funksjonsverdi, $f(x)$. En annen tilnærming til den deriverte baserer seg på at vi heller bruker midtpunktet mellom neste funksjonsverdi, $f(x+dx)$, og forrige funksjonsverdi, $f(x-dx)$. Dette kaller vi en _midtpunktstilnærming av den deriverte:\n",
    "\n",
    "$$f'(x) \\approx \\frac{f(x+dx) - f(x-dx)}{2dx}$$\n",
    "\n",
    "Implementer midtpunktstilnærmingen til den deriverte som en Python-funksjon og sammenlikn resultatene du får med resultatene du fikk med den første tilnærmingen.\n",
    "\n",
    "4. Derivasjon handler om å finne momentan endring. Når vi samler inn data fra eksperimenter eller observasjoner, kan vi faktisk derivere disse dataene ved å finne endringen mellom alle nærliggende punkter. Dette kan vi ikke gjøre analytisk med derivasjonsregler, siden vi ikke har en kontinuerlig funksjon å derivere. Se på programmet nedenfor og forklar hva det gjør uten å kjøre programmet. Husk at den deriverte av posisjon representerer endringen i posisjon, med andre ord farten. Prøv å skissere grafen som programmet vil tegne. Kjør så programmet og se om det stemmer med det du trodde.\n",
    "\n",
    "    <iframe src=\"https://trinket.io/embed/python3/9417b4e4a2\" width=\"100%\" height=\"600\" frameborder=\"0\" marginwidth=\"0\" marginheight=\"0\" allowfullscreen></iframe>\n",
    "\n",
    "    ```{admonition}\n",
    "    :class: tip, dropdown\n",
    "    Programmet leser av en fil som inneholder posisjonsdata for et legeme ved ulike tidspunkter. Deretter gjøres det en numerisk derivasjon av dataene, noe som gir farten (_v_). Legg merke til at lista med farten blir én verdi kortere enn den med posisjon (hvorfor?), så vi legger derfor til en tom verdi (\"None\") helt til slutt i lista, slik at listene blir like lange.\n",
    "\n",
    "    I programmet brukes Pandas til å lese filer, men du kan gjerne bruke andre metoder eller biblioteket, som _loadtxt_.\n",
    "    ```\n",
    "\n",
    "5. Bruk programmet ovenfor til å derivere posisjonsdataene fra [en tur med heisen](https://www.uio.no/studier/emner/matnat/ifi/IN-KJM1900/h20/datafiler/heistur.csv). Tolk resultatene.\n",
    "````"
   ]
  }
 ],
 "metadata": {
  "kernelspec": {
   "display_name": "Python 3 (ipykernel)",
   "language": "python",
   "name": "python3"
  },
  "language_info": {
   "codemirror_mode": {
    "name": "ipython",
    "version": 3
   },
   "file_extension": ".py",
   "mimetype": "text/x-python",
   "name": "python",
   "nbconvert_exporter": "python",
   "pygments_lexer": "ipython3",
   "version": "3.11.4"
  }
 },
 "nbformat": 4,
 "nbformat_minor": 4
}
