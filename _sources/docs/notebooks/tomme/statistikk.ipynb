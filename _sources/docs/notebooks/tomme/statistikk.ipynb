{
 "cells": [
  {
   "cell_type": "markdown",
   "metadata": {},
   "source": [
    "# Statistisk analyse\n",
    "\n",
    "I denne økta skal vi se på statistisk analyse og hvordan vi kan bruke data til å lage modeller.\n",
    "- gjøre statistiske operasjoner på data (pandas og numpy)\n",
    "- tolke statistiske størrelser og visualiseringer (som boksplott)\n",
    "- gjøre og tolke regresjon (numpy)\n",
    "\n",
    "<img src=\"https://www.uio.no/studier/emner/matnat/ifi/IN-KJM1900/h21/diverse/pingviner.png\" width=\"500\"/>\n",
    "<img src=\"https://www.uio.no/studier/emner/matnat/ifi/IN-KJM1900/h21/diverse/pingvin.png\" width=\"500\"/>"
   ]
  },
  {
   "cell_type": "code",
   "execution_count": 85,
   "metadata": {},
   "outputs": [],
   "source": []
  },
  {
   "cell_type": "markdown",
   "metadata": {},
   "source": [
    "## Regresjon\n",
    "\n",
    "|     Temperatur (°C)     |     NH$_3$, løselighet     (g/100 mL H$_2$O)     |     NaCl, Løselighet      (g/100 mL H$_2$O)     |\n",
    "|-------------------------|--------------------------------------------|----------------------------------------------|\n",
    "|     0                   |     88.5                                   |     35.7                                     |\n",
    "|     20                  |     56.0                                   |     35.9                                     |\n",
    "|     40                  |     34.0                                   |     36.4                                     |\n",
    "|     60                  |     20.0                                   |     37.1                                     |\n",
    "|     80                  |     11.0                                   |     38.0                                     |\n",
    "|     100                 |     7.0                                    |     39.2                                     |"
   ]
  },
  {
   "cell_type": "code",
   "execution_count": null,
   "metadata": {},
   "outputs": [],
   "source": []
  }
 ],
 "metadata": {
  "celltoolbar": "Edit Metadata",
  "kernelspec": {
   "display_name": "Python 3 (ipykernel)",
   "language": "python",
   "name": "python3"
  },
  "language_info": {
   "codemirror_mode": {
    "name": "ipython",
    "version": 3
   },
   "file_extension": ".py",
   "mimetype": "text/x-python",
   "name": "python",
   "nbconvert_exporter": "python",
   "pygments_lexer": "ipython3",
   "version": "3.9.12"
  }
 },
 "nbformat": 4,
 "nbformat_minor": 4
}
