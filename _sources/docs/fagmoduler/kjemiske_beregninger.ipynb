{
 "cells": [
  {
   "cell_type": "markdown",
   "id": "b16f839c",
   "metadata": {},
   "source": [
    "# Kjemiske beregninger (kjemi)\n",
    "\n",
    "## Eksempler på bruk av chemlib og pHcalc\n",
    "La oss se hvordan vi kan bruke Python som en kjemisk kalkulator. Du kan installere bibliotekene vi skal bruke ved å gå inn på \"Anaconda Prompt\". Dette er en terminal du har installert dersom du har [Anaconda-pakka](https://www.anaconda.com/products/individual) på datamaskinen din. Mac-brukere kan bare benytte den vanlige terminalen (\"Terminal\") som finnes på Mac-en fra før av. I denne terminalen skriver du så:\n",
    "\n",
    "```{code-block} text\n",
    "pip install chemlib\n",
    "```\n",
    "\n",
    "Følg eventuelle instruksjoner og vent til installasjonen er ferdig. Kjør deretter neste installasjon:\n",
    "\n",
    "```{code-block} text\n",
    "pip install phcalc\n",
    "```\n",
    "\n",
    "Før vi ser på disse bibliotekene, skal vi derimot se litt på håndtering av eksperimentelle data.\n",
    "\n",
    "Nedenfor ser du noen eksempler på nyttig bruk av chemlib og pHcalc. Bibliotekene kan brukes til å utføre støkiometriske og elektrokjemiske beregninger, i tillegg til beregninger av pH i syrer og baser.\n",
    "\n",
    "```{admonition} Oppgave\n",
    "Studer eksemplene og prøv å forklare hvordan hvert av programmene fungerer. Hvordan kan slike biblioteker brukes på en fornuftig måte i undervisningen?\n",
    "```"
   ]
  },
  {
   "cell_type": "markdown",
   "id": "72e827ff",
   "metadata": {},
   "source": [
    "## 1. Støkiometri"
   ]
  },
  {
   "cell_type": "code",
   "execution_count": 1,
   "id": "ba72ebf8",
   "metadata": {},
   "outputs": [
    {
     "name": "stdout",
     "output_type": "stream",
     "text": [
      "{'grams': 3, 'molecules': 3.92e+22, 'moles': 0.065}\n"
     ]
    }
   ],
   "source": [
    "from chemlib import Compound, Reaction\n",
    "\n",
    "etanol = Compound(\"C2H6O\")\n",
    "print(etanol.get_amounts(grams=3))"
   ]
  },
  {
   "cell_type": "markdown",
   "id": "d0f5a758",
   "metadata": {},
   "source": [
    "## 2. Reaksjonslikninger"
   ]
  },
  {
   "cell_type": "code",
   "execution_count": 3,
   "id": "505f8370",
   "metadata": {},
   "outputs": [
    {
     "name": "stdout",
     "output_type": "stream",
     "text": [
      "2S₁O₂ + 1O₂ --> 2S₁O₃\n",
      "True\n"
     ]
    }
   ],
   "source": [
    "SO2 = Compound(\"SO2\")\n",
    "O2 = Compound(\"O2\")\n",
    "SO3 = Compound(\"SO3\")\n",
    "\n",
    "reaksjon = Reaction([SO2, O2], [SO3])\n",
    "reaksjon.balance()\n",
    "print(reaksjon.formula)\n",
    "print(reaksjon.is_balanced)"
   ]
  },
  {
   "cell_type": "code",
   "execution_count": 4,
   "id": "af7de00f",
   "metadata": {},
   "outputs": [
    {
     "name": "stdout",
     "output_type": "stream",
     "text": [
      "S₁O₂\n",
      "O₂\n"
     ]
    }
   ],
   "source": [
    "begrenset_reaktant = reaksjon.limiting_reagent(12, 20) # 12 g SO2, 20 g O2\n",
    "print(begrenset_reaktant)\n",
    "begrenset_reaktant2 = reaksjon.limiting_reagent(0.8, 0.1, mode=\"moles\") # 0.8 mol SO2, 0.1 mol O2\n",
    "print(begrenset_reaktant2)"
   ]
  },
  {
   "cell_type": "markdown",
   "id": "adaac345",
   "metadata": {},
   "source": [
    "## 3. Elektrokjemiske celler"
   ]
  },
  {
   "cell_type": "code",
   "execution_count": 5,
   "id": "5c056c09",
   "metadata": {},
   "outputs": [
    {
     "name": "stdout",
     "output_type": "stream",
     "text": [
      "{'Cell': 'Pb | Pb2+ || Ag+ | Ag', 'Anode': 'Pb', 'Cathode': 'Ag', 'Cell Potential': 0.93}\n"
     ]
    }
   ],
   "source": [
    "from chemlib import Galvanic_Cell\n",
    "\n",
    "celle = Galvanic_Cell(\"Ag\", \"Pb\")\n",
    "print(celle.properties)"
   ]
  },
  {
   "cell_type": "code",
   "execution_count": 6,
   "id": "aac639c6",
   "metadata": {},
   "outputs": [],
   "source": [
    "celle.draw() # Tegner elementet som et bilde i et nytt vindu"
   ]
  },
  {
   "cell_type": "code",
   "execution_count": 7,
   "id": "c117def3",
   "metadata": {},
   "outputs": [
    {
     "name": "stdout",
     "output_type": "stream",
     "text": [
      "{'element': 'Ag', 'n': 2, 'seconds': 7200, 'amps': 20, 'grams': 80.49433590713582}\n"
     ]
    }
   ],
   "source": [
    "from chemlib import electrolysis\n",
    "el = electrolysis('Ag', n = 2, amps = 20, seconds=2*60*60) # Ag^+ --> Ag, forsølving i 2 timer med 20 A\n",
    "print(el)"
   ]
  },
  {
   "cell_type": "markdown",
   "id": "55ad0c10",
   "metadata": {},
   "source": [
    "## 4. pH-beregninger"
   ]
  },
  {
   "cell_type": "code",
   "execution_count": 8,
   "id": "c0b9f13a",
   "metadata": {},
   "outputs": [
    {
     "name": "stdout",
     "output_type": "stream",
     "text": [
      "pH = 14.0\n",
      "pH = -0.0\n",
      "pH = 1.59\n"
     ]
    }
   ],
   "source": [
    "from pHcalc.pHcalc import Acid\n",
    "from pHcalc.pHcalc import Acid, Neutral, System\n",
    "\n",
    "# 1 M NaOH. Definerer det pH-nøytrale systemet, OH- legges på automatisk\n",
    "Na = Neutral(charge=1, conc=1) \n",
    "sol1 = System(Na)\n",
    "sol1.pHsolve()\n",
    "print(\"pH =\", round(sol1.pH,2)) # Gir pH ca. lik 14\n",
    "\n",
    "# 1 M HCl. Definerer det pH-nøytrale systemet, H+ legges på automatisk\n",
    "Cl = Neutral(charge=-1, conc=1) \n",
    "sol2 = System(Cl)\n",
    "sol2.pHsolve()\n",
    "print(\"pH =\", round(sol2.pH,2)) # Gir pH ca. lik 0\n",
    "\n",
    "# 1 M HF (svak syre)\n",
    "hf = Acid(Ka=6.76E-4, charge=0, conc=1) # eventuelt pKa=3.17\n",
    "sol3 = System(hf)\n",
    "sol3.pHsolve()\n",
    "print(\"pH =\", round(sol3.pH,2)) # Gir pH ca. lik 1.59"
   ]
  }
 ],
 "metadata": {
  "kernelspec": {
   "display_name": "Python 3 (ipykernel)",
   "language": "python",
   "name": "python3"
  },
  "language_info": {
   "codemirror_mode": {
    "name": "ipython",
    "version": 3
   },
   "file_extension": ".py",
   "mimetype": "text/x-python",
   "name": "python",
   "nbconvert_exporter": "python",
   "pygments_lexer": "ipython3",
   "version": "3.9.12"
  }
 },
 "nbformat": 4,
 "nbformat_minor": 5
}
