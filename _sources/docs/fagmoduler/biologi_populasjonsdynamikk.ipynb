{
 "cells": [
  {
   "cell_type": "markdown",
   "metadata": {},
   "source": [
    "# Programmering i biologi\n",
    "Programmering i biologi kan handle om håndtering av data og for eksempel utforsking av ulike biologiske modeller. Her skal vi se nærmere på populasjonssimuleringer."
   ]
  },
  {
   "cell_type": "markdown",
   "metadata": {},
   "source": [
    "## Simulering av populasjonsdynamikk\n",
    "Vi kan utforske hvordan ulike faktorer påvirker en populasjon ved å bruke programmering. Eksempelet nedenfor viser et eksempel på hvordan dette kan gjøres:\n",
    "\n",
    "<iframe src=\"https://trinket.io/embed/python3/d02504440d\" width=\"100%\" height=\"600\" frameborder=\"0\" marginwidth=\"0\" marginheight=\"0\" allowfullscreen></iframe>"
   ]
  },
  {
   "cell_type": "markdown",
   "metadata": {},
   "source": [
    "````{admonition} Oppgave (PRIMM)\n",
    ":class: tip\n",
    "1. Forklar hva programmet ovenfor gjør uten å kjøre programmet.\n",
    "2. Kjør programmet og studer grafen. Gjorde programmet det du tenkte? Lag egnede aksetitler og eventuelt en tittel på plottet.\n",
    "3. Hvilke forutsetninger legger vi til grunn for populasjonsmodellen vår? Eksperimenter med ulike verdier av _k_. Hvilke biotiske og abiotiske faktorer kan påvirke denne konstanten?\n",
    "4. Modifiser programmet på disse måtene trinnvis og studer og beskriv veksten etter hver endring:\n",
    "a) Det blir mindre mat fra og med den 20. måneden. Juster vekstfaktoren fra og med denne måneden for å reflektere dette. Du kan selv bestemme hvor mye endringen skal ha å si. Begrunn valget ditt og forklar hva modellen nå beskriver.\n",
    "b) Dersom antall harer overstiger 200 i økosystemet, griper myndighetene inn og avliver 50 stykker.\n",
    "5. Lag et program som simulerer vekst av bakterier. Bruk programmet ovenfor som utgangspunkt. Programmet skal benytte følgende modell for bakterievekst:\n",
    "\n",
    "$$B_{t+dt} = B_t + k\\cdot B_t\\left(1 - \\frac{B_t}{b}\\right)$$\n",
    "\n",
    "der $B_{t+dt}$ er antallet bakterier ved neste tid, $t + dt$, og $B_t$ er antallet bakterier ved tida $t$. I tillegg har vi lagt inn en bæreevne $b$.\n",
    "\n",
    "Forklar hva som menes med bæreevne og velg en passende bæreevne for simuleringen din. Pass på at programmet simulerer lenge nok fram i tid til at populasjonen når bæreevnen. Modifiser gjerne programmet med for eksempel varierene vekst eller annet. Vær kreativ og begrunn valgene du tar underveis!\n",
    "````"
   ]
  }
 ],
 "metadata": {
  "kernelspec": {
   "display_name": "Python 3 (ipykernel)",
   "language": "python",
   "name": "python3"
  },
  "language_info": {
   "codemirror_mode": {
    "name": "ipython",
    "version": 3
   },
   "file_extension": ".py",
   "mimetype": "text/x-python",
   "name": "python",
   "nbconvert_exporter": "python",
   "pygments_lexer": "ipython3",
   "version": "3.8.5"
  }
 },
 "nbformat": 4,
 "nbformat_minor": 4
}
