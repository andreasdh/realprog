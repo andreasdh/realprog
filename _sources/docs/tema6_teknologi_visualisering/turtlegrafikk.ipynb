{
 "cells": [
  {
   "cell_type": "markdown",
   "metadata": {},
   "source": [
    "# Grafikk og geometri\n",
    "\n",
    "```{admonition} Læringsutbytte\n",
    "Etter å ha arbeidet med dette temaet, skal du kunne:\n",
    "1. Bruke skilpaddegrafikk til å visualisere geometriske sammenhenger.\n",
    "2. Utforske geometriske mønstre.\n",
    "```"
   ]
  },
  {
   "cell_type": "markdown",
   "metadata": {},
   "source": [
    "Så tidlig som mot slutten av 40-tallet ble små skilpaddeliknende roboter brukt til å trene opp ingeniører og informatikere i algoritmisk tenkning og programmering. Matematikeren, informatikeren og læreren Seymour Papert videreutviklet disse skilpadderobotene slik at de kunne tas i bruk av barn og ungdom. Han var også en av utviklerne bak programmeringsspråket Logo, som kom ut i 1967. Logo hadde som formål å være et programmeringsspråk som skulle inspirere og engasjere, i tillegg til at det skulle kunne brukes til å utforske matematikk. Mest kjent er Logo for turtle-grafikken/skilpaddegrafikken, der du kan programmere en peker i et koordinatsystem på samme måte som skilpadderobotene til Papert. Dette skal vi se på her.\n",
    "\n",
    "```{admonition} Underveisoppgave\n",
    ":class: tip\n",
    "Se videoen nedenfor. Dette er en dokumentar fra 1972 der matematikeren Seymour Papert forklarer det pedagogiske prosjektet bak Turtle og programmering i skolen. Legg merke til også Papert ønsket å integrere programmering for å lære matematikk (og musikk og kunst!), ikke for å lære programmering i seg selv. Prøv å oppsummere hovedpoengene i videoen. Det kan være nyttig å vite at Papert var elev av Jean Piaget.\n",
    "\n",
    "<iframe width=\"560\" height=\"315\" src=\"https://www.youtube.com/embed/maDzjHIiXZc\" title=\"YouTube video player\" frameborder=\"0\" allow=\"accelerometer; autoplay; clipboard-write; encrypted-media; gyroscope; picture-in-picture\" allowfullscreen></iframe>\n",
    "```\n",
    "\n",
    "\n",
    "La oss se på en skilpadde som heter Gunnar. Gunnar følger enkle kommandoer, som \"forward\", \"backward\", \"right\" og \"left\". Vi kan også gi form og farge til skilpadden med enkle kommandoer. Her er et eksempel på hvordan Gunnar kan bevege seg:\n",
    "\n",
    "<iframe src=\"https://trinket.io/embed/python/e00b86de83?font=1.5em\" width=\"100%\" height=\"356\" frameborder=\"0\" marginwidth=\"0\" marginheight=\"0\" allowfullscreen></iframe>\n",
    "\n",
    "```{admonition} Underveisoppgave\n",
    ":class: tip\n",
    "Endre programmet ovenfor slik at Gunnar tegner en trekant. Hva er sammenhengen mellom vinkelen som skilpadden snur og vinklene i trekanten?\n",
    "```\n",
    "````{admonition} Løsningsforslag\n",
    ":class: tip, dropdown\n",
    "Du kan tegne hvilken som helst trekant, men dersom vi velger en likesidet trekant, må alle vinkler være 60 grader (slik at summen av de tre vinklene er 180 grader). Men vi kan ikke snu skilpadden 60 grader mot venstre. Da blir ikke den indre vinkelen i trekanten 60 grader. Det er altså forskjell på å snu 60 grader og lage en vinkel på 60 grader. Siden en helomvending er 180 grader, må skilpadden snu 180 - 60 = 120 grader for at vinklene i trekanten skal være 60 grader.\n",
    "\n",
    "```{code-block} Python\n",
    "from turtle import *\n",
    "\n",
    "shape(\"turtle\")    # gir pekeren skilpaddeform \n",
    "color(\"limegreen\") # gjør skilpadden limegrønn\n",
    "forward(100)       # går framover 100 steg\n",
    "left(120)          # vender 30 grader mot høyre (går ikke framover)\n",
    "forward(100)       # går framover 100 steg\n",
    "left(120)\n",
    "forward(100)\n",
    "```\n",
    "````\n",
    "\n",
    "Å tegne en trekant krever få linjer kode, men hva hvis du vil tegne en åttekant, en førtitokant, eller en nittisekskant? Det er slitsomt og kjedelig å skrive samme kommando hundrevis av ganger. Og det er totalt unødvendig. Vi bruker nemlig løkker til å gjenta kode, for eksempel slik:\n",
    "\n",
    "<iframe src=\"https://trinket.io/embed/python/f047f7a36d?font=1.5em\" width=\"100%\" height=\"300\" frameborder=\"0\" marginwidth=\"0\" marginheight=\"0\" allowfullscreen></iframe>\n",
    "\n",
    "```{admonition} Oppgave 1\n",
    ":class: tip\n",
    "Forklar hvordan programmet ovenfor fungerer. Tegn så en firkant og en femkant.\n",
    "```\n",
    "\n",
    "```{admonition} Oppgave 2\n",
    ":class: tip\n",
    "Tegn en 100-kant. Hvilken geometrisk figur likner dette på, og hvorfor?\n",
    "```\n",
    "\n",
    "```{admonition} Oppgave 3\n",
    ":class: tip\n",
    "Tegn et hus! Du bestemmer selv hvor detaljert det skal være.\n",
    "```\n",
    "\n",
    "```{admonition} Oppgave 4*\n",
    ":class: tip\n",
    "Lag en Python-funksjon _trekant_, _firkant_ og _femkant_ som tegner hver sin geometriske figur.\n",
    "```\n",
    "\n",
    "```{admonition} Oppgave 5*\n",
    ":class: tip\n",
    "Lag en Python-funksjon _mangekant_ med _n_  og _lengde_ som parametre. Funksjonen skal tegne en _n_-kant med sidelengde _lengde_.\n",
    "```\n",
    "\n",
    "Det finnes mange flere kommandoer vi kan gi til skilpadden vår. Her er noen eksempler. Eksperimenter med kommandoene og se hva de gjør!\n",
    "\n",
    "<iframe src=\"https://trinket.io/embed/python/623a4e49e7\" width=\"100%\" height=\"600\" frameborder=\"0\" marginwidth=\"0\" marginheight=\"0\" allowfullscreen></iframe>\n",
    "\n",
    "```{admonition} Oppgave 6\n",
    ":class: tip\n",
    "Få Gunnar til å tegne et menneske eller en blomst. Legg en plan før du begynner. Hvilke geometriske former vil du ta utgangspunkt i?\n",
    "```\n",
    "\n",
    "```{admonition} Oppgave 7\n",
    ":class: tip\n",
    "Tegn OL-ringene. Bestem selv hvor mye de skal likne de faktiske OL-ringene:\n",
    "\n",
    "<img src=\"https://media.snl.no/media/186562/standard_1000px-Olympic_rings_without_rims.svg_1_.png\" title=\"OL-ringene\" width = 400/>\n",
    "```"
   ]
  },
  {
   "cell_type": "markdown",
   "metadata": {},
   "source": [
    "## Geometriske beregninger\n",
    "\n",
    "Vi kan også gjør enkle beregninger i Python, for så å bruke disse beregningene til å tegne med skilpaddegrafikk. For eksempel kan vi regne ut hypotenusen i en rettvinkla trekant med katetlengder 3 og 4 slik:"
   ]
  },
  {
   "cell_type": "code",
   "execution_count": 1,
   "metadata": {},
   "outputs": [
    {
     "name": "stdout",
     "output_type": "stream",
     "text": [
      "Lengden til hypotenusen er: 5.0\n"
     ]
    }
   ],
   "source": [
    "kat1 = 3\n",
    "kat2 = 4\n",
    "hyp = (kat1**2 + kat2**2)**0.5 #eventuelt kan vi importere sqrt fra pylab\n",
    "print(\"Lengden til hypotenusen er:\", hyp)"
   ]
  },
  {
   "cell_type": "markdown",
   "metadata": {},
   "source": [
    "```{admonition} Oppgave 8\n",
    ":class: tip\n",
    "Tegn en trekant med vinkler 30, 60 og 90 grader. Gjør eventuelle beregninger i selve programmet.\n",
    "```\n",
    "\n",
    "<iframe src=\"https://trinket.io/embed/python/4d2974feea\" width=\"100%\" height=\"356\" frameborder=\"0\" marginwidth=\"0\" marginheight=\"0\" allowfullscreen></iframe>\n",
    "\n",
    "````{admonition} Løsningsforslag\n",
    ":class: tip, dropdown\n",
    "Vi har her gjort alle beregninger i programmet basert på det vi kan om trekanter med vinkler lik 30, 60 og 90 grader: Hypotenusen må være dobbelt så lang som den lengste kateten, og den andre kateten må ifølge Pytagoras' setning da være $\\sqrt{3}a$, dersom vi kaller lengden av den korteste kateten for a. Vi kunne også importert sqrt-funksjonen fra pylab-biblioteket istedenfor å ha opphøyet i 0.5. Dette kunne selvsagt vært løst på andre måter, f.eks. ved å regne ut hypotenusen først, og deretter katet 2 ut fra katet 1 og hypotenusen.\n",
    "\n",
    "```{code-block} Python\n",
    "from turtle import *\n",
    "\n",
    "kat1 = 100\n",
    "kat2 = kat1*3**0.5\n",
    "hyp = 2*kat1\n",
    "\n",
    "forward(katet1)\n",
    "left(90)\n",
    "forward(katet2)\n",
    "left(180-30)\n",
    "forward(hypotenus)\n",
    "```\n",
    "````\n"
   ]
  },
  {
   "cell_type": "markdown",
   "metadata": {},
   "source": [
    "## Flere skilpadder\n",
    "Dersom vi ønsker å tegne ved hjelp av flere pekere (eller skilpadder) i koordinatsystemet, må vi faktisk gi dem navn. Vi sier at vi oppretter to skilpaddeobjekter, med et sett med felles egenskaper og muligheten for å modifisere disse egenskapene hver for seg. Vi kan for eksempel lage to skilpadder som heter Shelly og Raphael. Shelly kan få være grønn, mens Raphael er rød. Shelly kan også være raskere enn Raphael. Dette gjør vi slik:\n",
    "\n",
    "<iframe src=\"https://trinket.io/embed/python/824435a4e5\" width=\"100%\" height=\"600\" frameborder=\"0\" marginwidth=\"0\" marginheight=\"0\" allowfullscreen></iframe>\n",
    "\n",
    "```{admonition} Oppgave 9: Ei kjærleikshistorie\n",
    ":class: tip\n",
    "De to skilpaddene, Shelly og Raphael, er glad i hverandre. De bor sammen i origo. Men en dag blir de uvenner, og Shelly løper 300 skritt mot venstre, mens Raphael går 300 skritt mot høyre. Men så ser de et tre der de pleide å være da de var unge og nyforelskede. Treet er 300 skritt rett opp fra huset deres i origo. Hvordan må de gå for å møte hverandre der igjen og oppleve kjærlighet nok en gang?\n",
    "```"
   ]
  },
  {
   "cell_type": "markdown",
   "metadata": {},
   "source": [
    "## Kunst (?)\n",
    "\n",
    "Lag noe! Tenk, vær kreativ, prøv, feil, prøv igjen – utfordre deg selv! Med skilpaddegrafikk kan du både slippe fantasien løs og lære litt om geometri i samme slengen. Kanskje \"kunstverket\" nedenfor kan inspirere?\n",
    "\n",
    "<iframe src=\"https://trinket.io/embed/pygame/022fd8554d\" width=\"100%\" height=\"600\" frameborder=\"0\" marginwidth=\"0\" marginheight=\"0\" allowfullscreen></iframe>"
   ]
  },
  {
   "cell_type": "markdown",
   "metadata": {},
   "source": [
    "## Oppgaver\n",
    "\n",
    "```{admonition} Oppgave 10\n",
    ":class: tip\n",
    "Tegn en trekant med vinkler 30, 60 og 90 grader. Den lengste sida skal være 100 lang.\n",
    "```\n",
    "````{admonition} Løsningsforslag\n",
    ":class: tip, dropdown\n",
    "```{code-block} Python\n",
    "from turtle import *\n",
    "\n",
    "vinkelA = 30\n",
    "vinkelB = 90\n",
    "vinkelC = 60\n",
    "\n",
    "AC = 100     # Hypotenus\n",
    "BC = AC/2\n",
    "AB = (AC**2 - BC**2)**0.5\n",
    "\n",
    "forward(AB)\n",
    "left(180-vinkelB)\n",
    "forward(BC)\n",
    "left(180-vinkelC)\n",
    "forward(AC)\n",
    "```\n",
    "````\n",
    "\n",
    "```{admonition} Oppgave 11\n",
    ":class: tip\n",
    "La skilpadden gå 30 bortover, vende 90 grader og gå 40 oppover. Vend den så 143,13 grader. Hvor langt må den gå nedover for å komme tilbake til utgangspunktet og danne en rettvinkla trekant? Du kan skrive ut posisjonen i koordinatsystemet ved å skrive print(pos()).\n",
    "```\n",
    "\n",
    "```{admonition} Oppgave 12\n",
    ":class: tip\n",
    "Tegn en rettvinkla trekant ABC med vinkler $\\angle A = 45^o$ og $\\angle B = 90^o$, der hypotenusen skal være 282,84 lang.\n",
    "```\n",
    "\n",
    "### Oversikt over kommandoer\n",
    "Her har du en oversikt over flere nyttige turtle-kommandoer:"
   ]
  },
  {
   "cell_type": "code",
   "execution_count": null,
   "metadata": {},
   "outputs": [],
   "source": [
    "from turtle import *   # Importerer kommandoene vi trenger\n",
    "\n",
    "forward(100)           # Går framover 100 skritt\n",
    "backward(100)          # Går bakover 100 skritt\n",
    "right(45)              # Snur 45 grader mot høyre\n",
    "left(45)               # Snurt 45 grader mot venstre\n",
    "goto(30,45)            # Går til koordinaten (30, 45)\n",
    "print(pos())           # Skriver ut posisjonen til pekeren\n",
    "penup()                # Slutter å tegne\n",
    "pendown()              # Begynner å tegne igjen\n",
    "circle(50)             # Tegner sirkel med radius 50\n",
    " \n",
    "shape('turtle')        # Gir pekeren form som en skilpadde\n",
    "color('green')         # Fargelegger pekeren\n",
    "pencolor('red')        # Fargelegger det vi tegner\n",
    "pensize(10)            # Angir tykkelsen på strekene som tegnes\n",
    "speed(4)               # Tegnefart fra 1-10 (men 0 er raskest!)\n",
    "\n",
    "fillcolor(\"limegreen\") # Angir fyllfarge\n",
    "begin_fill()           # Starter å fylle figuren med farge\n",
    "end_fill()             # Slutter å fylle figuren med farge"
   ]
  },
  {
   "cell_type": "markdown",
   "metadata": {},
   "source": [
    "## Video\n",
    "\n",
    "Se videoen nedenfor for en innføring eller repetisjon til skilpaddegrafikk.\n",
    "\n",
    "````{tabbed} Turtle-grafikk\n",
    "<iframe width=\"800\" height=\"600\" src=\"https://www.youtube.com/embed/PafdmVrIJHU? autoplay=0&rel=0\" title=\"YouTube video player\" frameborder=\"0\" allow=\"accelerometer; autoplay; clipboard-write; encrypted-media; gyroscope; picture-in-picture\" allowfullscreen></iframe>\n",
    "````"
   ]
  }
 ],
 "metadata": {
  "celltoolbar": "Edit Metadata",
  "kernelspec": {
   "display_name": "Python 3 (ipykernel)",
   "language": "python",
   "name": "python3"
  },
  "language_info": {
   "codemirror_mode": {
    "name": "ipython",
    "version": 3
   },
   "file_extension": ".py",
   "mimetype": "text/x-python",
   "name": "python",
   "nbconvert_exporter": "python",
   "pygments_lexer": "ipython3",
   "version": "3.8.5"
  }
 },
 "nbformat": 4,
 "nbformat_minor": 4
}
