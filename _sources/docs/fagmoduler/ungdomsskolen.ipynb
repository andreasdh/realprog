{
 "cells": [
  {
   "cell_type": "markdown",
   "id": "65be2dfa",
   "metadata": {},
   "source": [
    "# Ungdomsskole\n",
    "\n",
    "Her finner du opplegg tilpasset ungdomsskolepensum:\n",
    "\n",
    "[sannsynlighetsbegrepet](sannsynlighet_u.ipynb)\n",
    "\n",
    "[geometriske mønstre](../tema6_teknologi_visualisering/turtlegrafikk.ipynb)\n",
    "\n",
    "[tallmønstre](tallmønstre.ipynb)"
   ]
  },
  {
   "cell_type": "code",
   "execution_count": null,
   "id": "64c8a433",
   "metadata": {},
   "outputs": [],
   "source": []
  }
 ],
 "metadata": {
  "kernelspec": {
   "display_name": "Python 3 (ipykernel)",
   "language": "python",
   "name": "python3"
  },
  "language_info": {
   "codemirror_mode": {
    "name": "ipython",
    "version": 3
   },
   "file_extension": ".py",
   "mimetype": "text/x-python",
   "name": "python",
   "nbconvert_exporter": "python",
   "pygments_lexer": "ipython3",
   "version": "3.8.5"
  }
 },
 "nbformat": 4,
 "nbformat_minor": 5
}
