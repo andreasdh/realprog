{
 "cells": [
  {
   "cell_type": "markdown",
   "id": "308836dd",
   "metadata": {},
   "source": [
    "# Periodiske egenskaper (kjemi)\n",
    "Programmering i kjemi kan handle om datahåndtering og utforsking av kjemiske egenskaper. I kjemi kan det blant annet være hensiktsmessig å fokusere på utforsking av periodiske egenskaper ved hjelp av ulike _biblioteker_ i Python. Noen nyttige biblioteker som kan brukes til utforsking, er:\n",
    "\n",
    "1. Mendeleev (grunnstoffer)\n",
    "2. Chemlib (grunnstoffer, støkiometri og elektrokjemi)\n",
    "3. pHcalc (pH-beregninger)\n",
    "\n",
    "Du kan installere disse bibliotekene ved å gå inn på \"Anaconda Prompt\". Dette er en terminal du har installert dersom du har [Anaconda-pakka](https://www.anaconda.com/products/individual) på datamaskinen din. Mac-brukere kan bare benytte den vanlige terminalen (\"Terminal\") som finnes på Mac-en fra før av. I denne terminalen skriver du så:\n",
    "\n",
    "```{code-block} text\n",
    "pip install mendeleev\n",
    "```\n",
    "\n",
    "Følg eventuelle instruksjoner og vent til installasjonen er ferdig. Kjør deretter neste installasjon:\n",
    "\n",
    "```{code-block} text\n",
    "pip install chemlib\n",
    "```\n",
    "\n",
    "Og siste installasjon:\n",
    "\n",
    "```{code-block} text\n",
    "pip install phcalc\n",
    "```\n",
    "\n",
    "Da er du klar til å begynne!"
   ]
  },
  {
   "cell_type": "markdown",
   "id": "706eaa26",
   "metadata": {},
   "source": [
    "## Oppgave\n",
    "Vi starter med et enkelt eksempel for å bli kjent med Mendeleev-biblioteket."
   ]
  },
  {
   "cell_type": "code",
   "execution_count": 11,
   "id": "730f9b83",
   "metadata": {},
   "outputs": [
    {
     "name": "stdout",
     "output_type": "stream",
     "text": [
      "Atomnummer: 10 --Navn: Neon --Symbol: Ne --Gruppe: 18\n"
     ]
    }
   ],
   "source": [
    "from mendeleev import element\n",
    "\n",
    "Z = 10\n",
    "grunnstoff = element(Z)\n",
    "\n",
    "navn = grunnstoff.name\n",
    "symbol = grunnstoff.symbol\n",
    "gruppe = grunnstoff.group_id\n",
    "\n",
    "print(\"Atomnummer:\", Z, \"--Navn:\", navn, \"--Symbol:\", symbol, \"--Gruppe:\", gruppe)"
   ]
  },
  {
   "cell_type": "markdown",
   "id": "51121500",
   "metadata": {},
   "source": [
    "```{admonition} Oppgave\n",
    ":class: tip\n",
    "1. Utvid programmet slik at det også skriver ut periodenummeret. Du kan enten tippe på hva kommandoen for periode er, eller du kan slå det opp i [dokumentasjonen til mendeleev-biblioteket](https://mendeleev.readthedocs.io/en/stable/).\n",
    "2. Modifiser programmet slik at det skriver ut informasjon om de 18 letteste grunnstoffene.\n",
    "```"
   ]
  },
  {
   "cell_type": "markdown",
   "id": "689b3e04",
   "metadata": {},
   "source": [
    "La oss kombinere mendeleev-biblioteket med løkker og lister slik at vi kan finne informasjon om flere grunnstoffer, i tillegg til at vi kan plotte ulike sammenhenger."
   ]
  },
  {
   "cell_type": "code",
   "execution_count": 41,
   "id": "eb37f734",
   "metadata": {},
   "outputs": [],
   "source": [
    "from pylab import *\n",
    "from mendeleev import element\n",
    "\n",
    "atomnummer = []\n",
    "elektronegativitet = []\n",
    "\n",
    "for i in range(1, 119):\n",
    "    grunnstoff = element(i)\n",
    "    atomnummer.append(grunnstoff.atomic_number)\n",
    "    elektronegativitet.append(grunnstoff.electronegativity())"
   ]
  },
  {
   "cell_type": "markdown",
   "id": "be4190e9",
   "metadata": {},
   "source": [
    "````{admonition} Oppgave (PRIMM)\n",
    ":class: tip\n",
    "1. Forklar hva programmet ovenfor gjør. \n",
    "2. Kjør programmet og print ut lista med atomnummer og lista med elektronegativitet. Gjorde programmet det du tenkte?\n",
    "3. Istedenfor å bare printe ut listene, prøv å plotte listene mot hverandre (atomnummer på _x_-aksen og elektronegativitet på _y_aksen). Bruk gjerne _scatter_ istedenfor _plot_, slik at vi får punkter og ikke linjer.\n",
    "4. Modifiser programmet slik at det kun plotter grunnstoffene i andre periode. Beskriv trenden.\n",
    "\n",
    "    Vi kan gjennomgå hvert element i ei liste slik:\n",
    "\n",
    "    ```{code-block} Python\n",
    "    navneliste = [\"Arne\", \"Bjarne\", \"Mia\", \"Pia\"]\n",
    "\n",
    "    for navn in navneliste:\n",
    "        print(navn)\n",
    "    ```\n",
    "\n",
    "5. Bruk denne måten å gjennomgå lister på til å modifisere programmet slik at det kun plotter grunnstoffene i første gruppe. Beskriv trenden. Gjør det samme for gruppe 18 og beskriv denne trenden også.\n",
    "\n",
    "6. Lag et program som skriver ut eller plotter kokepunktet til alle halogenene. Beskriv og forklar trenden i kokepunkt.\n",
    "````"
   ]
  }
 ],
 "metadata": {
  "kernelspec": {
   "display_name": "Python 3 (ipykernel)",
   "language": "python",
   "name": "python3"
  },
  "language_info": {
   "codemirror_mode": {
    "name": "ipython",
    "version": 3
   },
   "file_extension": ".py",
   "mimetype": "text/x-python",
   "name": "python",
   "nbconvert_exporter": "python",
   "pygments_lexer": "ipython3",
   "version": "3.9.12"
  }
 },
 "nbformat": 4,
 "nbformat_minor": 5
}
