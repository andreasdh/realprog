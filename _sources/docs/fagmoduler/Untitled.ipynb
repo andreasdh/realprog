{
 "cells": [
  {
   "cell_type": "code",
   "execution_count": null,
   "id": "f5e86b11",
   "metadata": {},
   "outputs": [
    {
     "ename": "",
     "evalue": "",
     "output_type": "error",
     "traceback": [
      "\u001b[1;31mRunning cells with 'Python 3.10.14 64-bit' requires ipykernel package.\n",
      "\u001b[1;31mRun the following command to install 'ipykernel' into the Python environment. \n",
      "\u001b[1;31mCommand: '/opt/local/bin/python3.10 -m pip install ipykernel -U --user --force-reinstall'"
     ]
    }
   ],
   "source": [
    "# Dette interaktive plottet kan kjøres i en vanlig notebook\n",
    "import matplotlib.pyplot as plt\n",
    "import numpy as np\n",
    "from ipywidgets import interact\n",
    "\n",
    "# Definer funksjonen og dens deriverte\n",
    "def f(x):\n",
    "    return x**2\n",
    "\n",
    "def f_derivert(x):\n",
    "    return 2*x\n",
    "\n",
    "def sekant(x0, x1):\n",
    "    x_sekant = np.array([x0, x1])\n",
    "    y_sekant = f(x0) + (f(x1) - f(x0)) / (x1 - x0) * (x_sekant - x0)\n",
    "    return x_sekant, y_sekant\n",
    "\n",
    "# Funksjon for å tegne plottet\n",
    "def tegn_plott_justert(dx=1):\n",
    "    # Grenser for sekanten\n",
    "    x0 = 1 \n",
    "    x1 = x0 + dx\n",
    "    \n",
    "    stigningstall = (f(x1) - f(x0)) / (x1 - x0)\n",
    "\n",
    "    x_verdier = np.linspace(0, 3, 400)\n",
    "    y_verdier = f(x_verdier)\n",
    "\n",
    "    x_sekant, y_sekant = sekant(x0, x1)\n",
    "    x_sekant_utvidet = np.linspace(min(x0, x1) - 1, max(x0, x1) + 1, 400)\n",
    "    y_sekant_utvidet = f(x0) + (y_sekant[1] - y_sekant[0]) / (x_sekant[1] - x_sekant[0]) * (x_sekant_utvidet - x0)\n",
    "\n",
    "    plt.figure(figsize=(10,6))\n",
    "    plt.plot(x_verdier, y_verdier, label='f(x) = x²')\n",
    "    plt.plot(x_sekant_utvidet, y_sekant_utvidet, label='Sekantlinje', color='red')\n",
    "\n",
    "    # Plott tangentlinjen når dx går mot 0\n",
    "    if dx <= 0.001:\n",
    "        plt.plot(x_verdier, f(x0) + f_derivert(x0) * (x_verdier - x0), label='Tangentlinje (nærmer seg når dx -> 0)', color='green')\n",
    "\n",
    "    # Merk punktene hvor vi beregner vekstfarten\n",
    "    plt.scatter([x0, x1], [f(x0), f(x1)], color='black')\n",
    "    plt.text(x0, f(x0) + 0.5, f\"A ({x0}, {f(x0)})\", verticalalignment='bottom')\n",
    "    plt.text(x1, f(x1) - 0.5, f\"B ({x1}, {round(f(x1), 2)})\", verticalalignment='top')\n",
    "    \n",
    "    plt.text(0, 3, f\"Stigningstall: {stigningstall:.2f}\", fontsize=12, color='blue')\n",
    "    plt.title('Fra gjennomsnittlig til momentan vekstfart')\n",
    "    plt.xlabel('x')\n",
    "    plt.ylabel('f(x)')\n",
    "    plt.legend(loc=\"upper center\")\n",
    "    plt.grid(True)\n",
    "    plt.axhline(0, color='black', linewidth=0.5)\n",
    "    plt.axvline(0, color='black', linewidth=0.5)\n",
    "    plt.show()\n",
    "\n",
    "# Opprett en interaktiv glider for å endre dx-verdien med mindre steg\n",
    "interact(tegn_plott_justert, dx=(0.001, 1, 0.001));"
   ]
  },
  {
   "cell_type": "code",
   "execution_count": null,
   "id": "e56e7aa0",
   "metadata": {},
   "outputs": [
    {
     "ename": "",
     "evalue": "",
     "output_type": "error",
     "traceback": [
      "\u001b[1;31mRunning cells with 'Python 3.10.14 64-bit' requires ipykernel package.\n",
      "\u001b[1;31mRun the following command to install 'ipykernel' into the Python environment. \n",
      "\u001b[1;31mCommand: '/opt/local/bin/python3.10 -m pip install ipykernel -U --user --force-reinstall'"
     ]
    }
   ],
   "source": []
  }
 ],
 "metadata": {
  "kernelspec": {
   "display_name": "Python 3.10.14 64-bit",
   "language": "python",
   "name": "python3"
  },
  "language_info": {
   "codemirror_mode": {
    "name": "ipython",
    "version": 3
   },
   "file_extension": ".py",
   "mimetype": "text/x-python",
   "name": "python",
   "nbconvert_exporter": "python",
   "pygments_lexer": "ipython3",
   "version": "3.10.14"
  },
  "vscode": {
   "interpreter": {
    "hash": "610c699f0cd8c4f129acd9140687fff6866bed0eb8e82f249fc8848b827b628c"
   }
  }
 },
 "nbformat": 4,
 "nbformat_minor": 5
}
