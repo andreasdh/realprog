{
 "cells": [
  {
   "cell_type": "markdown",
   "metadata": {},
   "source": [
    "# Simulering av kinematikk (fysikk)\n",
    "Det å kunne løse problemer _iterativt_, altså å \"tenke i løkker\" er svært nyttig i fysikk. Det lar oss generalisere og løse problemer på flere måter. Ikke minst lar det oss løse problemer uten for komplisert matematikk. Vi skal se på et eksempel her.\n",
    "\n",
    "## Oppgave\n",
    "La oss se på hvordan vi kan simulere enkel bevegelse med programmering. Vi tar utgangspunkt i Newtons 2. lov:\n",
    "\n",
    "$$\\sum F = ma$$\n",
    "\n",
    "$$a = \\frac{\\sum F}{m}$$\n",
    "\n",
    "Vi har altså et uttrykk for akselerasjonen hvis vi kjenner til kreftene som virker på et legeme. Dersom vi gjør en forenkling og regner med at akselerasjonen er konstant i hvert lite tidsrom $t + dt$, der $dt$ er et lite tidssteg, kan vi bruke bevegelseslikningene for konstant akselerasjon for å regne ut fart og posisjon for et legeme:\n",
    "\n",
    "$$v = v_0 + at$$\n",
    "\n",
    "$$s = s_0 + v_0t + \\frac{1}{2}at^2$$\n",
    "\n",
    "La oss studerer en ball som faller med luftmotstand. Vi regner med positiv retning oppover y-aksen. Da har vi at:\n",
    "\n",
    "$$a = \\frac{\\sum F}{m}$$\n",
    "$$a = \\frac{G - L}{m}$$\n",
    "\n",
    "Hvis vi bruker en enkel modell for luftmotstand, $L = -kv$, får vi:\n",
    "\n",
    "$$a = \\frac{- mg +(- kv)}{m} = -g - \\frac{kv}{m}$$\n",
    "\n",
    "La oss starte med et program som ser bort ifra luftmotstand (som vanlig...).\n",
    "\n",
    "```{admonition} Oppgave (PRIMM)\n",
    ":class: tip\n",
    "1. Se på programmet nedenfor. Forklar hva programmet gjør, linje for linje, før du kjører det.\n",
    "2. Kjør programmet og se hva du får som output. Var det som du antok? Kontroller ved å regne ut ved hjelp av penn og papir og sammenlikn svarene.\n",
    "3. Utforsk hva som skjer dersom du øker eller minker tidssteget _dt_. Beskriv også hva som skjer dersom du lar ballen falle på månen ($g = 1,625 \\ m/s^2$).\n",
    "4. Endre programmet slik at det tar hensyn til luftmotstand ($L = -kv$). Hvordan endrer det utfallet?\n",
    "5. Lag et program som simulerer kast av ball. Du kan velge om du vil beskrive bevegelsen i én eller to dimensjoner.\n",
    "```\n",
    "\n",
    "<iframe src=\"https://trinket.io/embed/python3/e1320f9e8a\" width=\"100%\" height=\"600\" frameborder=\"0\" marginwidth=\"0\" marginheight=\"0\" allowfullscreen></iframe>"
   ]
  },
  {
   "cell_type": "code",
   "execution_count": null,
   "metadata": {},
   "outputs": [],
   "source": []
  }
 ],
 "metadata": {
  "kernelspec": {
   "display_name": "Python 3 (ipykernel)",
   "language": "python",
   "name": "python3"
  },
  "language_info": {
   "codemirror_mode": {
    "name": "ipython",
    "version": 3
   },
   "file_extension": ".py",
   "mimetype": "text/x-python",
   "name": "python",
   "nbconvert_exporter": "python",
   "pygments_lexer": "ipython3",
   "version": "3.9.12"
  }
 },
 "nbformat": 4,
 "nbformat_minor": 4
}
