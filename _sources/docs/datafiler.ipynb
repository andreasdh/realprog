{
 "cells": [
  {
   "cell_type": "markdown",
   "metadata": {},
   "source": [
    "# Datafiler\n",
    "\n",
    "[titreringsdata.txt](https://www.uio.no/studier/emner/matnat/ifi/IN-KJM1900/h21/datafiler/titreringsdata.txt?vrtx=source)\n",
    "\n",
    "[alder_kjonn.txt](https://www.uio.no/studier/emner/matnat/natfag/NAT3000/h21/datafiler/alder_kjonn.txt)\n",
    "\n",
    "[antall-meldte-covid-19.txt](https://www.uio.no/studier/emner/matnat/natfag/NAT3000/h21/datafiler/antall-meldte-covid-19.txt)\n",
    "\n",
    "[D5_naringskjede_organisme.txt](https://raw.githubusercontent.com/andreasdh/NAT3000/master/docs/datafiler/D5_naringskjede_organisme.txt)\n",
    "\n",
    "[D5_naringskjede_trofisk.txt](https://raw.githubusercontent.com/andreasdh/NAT3000/master/docs/datafiler/D5_naringskjede_trofisk.txt)\n",
    "\n",
    "[vin.csv](https://www.uio.no/studier/emner/matnat/ifi/IN-KJM1900/h20/datafiler/vin.csv)\n",
    "\n",
    "[iris.csv](https://www.uio.no/studier/emner/matnat/natfag/NAT3000/h21/datafiler/iris.csv)\n",
    "\n",
    "[cars.txt](https://www.uio.no/studier/emner/matnat/natfag/NAT3000/h21/datafiler/mtcars.txt)\n",
    "\n",
    "[pingviner.txt](https://www.uio.no/studier/emner/matnat/ifi/IN-KJM1900/h21/datafiler/penguings.txt)\n",
    "\n",
    "[heistur.csv](https://raw.githubusercontent.com/andreasdh/programmering-i-kjemi/master/docs/datafiler/heistur_kjemi_fysikk.txt)\n",
    "\n",
    "[posisjon.txt](https://raw.githubusercontent.com/andreasdh/NAT3000/master/docs/datafiler/posisjon.txt)\n",
    "\n",
    "[solflekker.txt](https://raw.githubusercontent.com/andreasdh/Programmering-og-modellering/master/docs/Datafiler/solflekker.txt)\n",
    "\n",
    "[temperatur.txt](https://raw.githubusercontent.com/andreasdh/realprog/master/docs/datafiler/temperatur.txt)\n",
    "\n",
    "[influensa.txt](https://www.uio.no/studier/emner/matnat/ifi/IN-KJM1900/h20/datafiler/influensa.txt)\n",
    "\n",
    "[ioniseringsenergi.txt](https://raw.githubusercontent.com/andreasdh/programmering-i-kjemi/master/docs/datafiler/ioniseringsenergi.txt)\n",
    "\n",
    "[bakterier.txt](https://raw.githubusercontent.com/andreasdh/NAT3000/master/docs/datafiler/bakterier.txt)\n",
    "\n",
    "[CO2_india.txt](https://raw.githubusercontent.com/andreasdh/realprog/master/docs/datafiler/CO2_India.txt)\n",
    "\n",
    "[CO2_norge.txt](https://raw.githubusercontent.com/andreasdh/realprog/master/docs/datafiler/CO2_Norge.txt)"
   ]
  },
  {
   "cell_type": "code",
   "execution_count": null,
   "metadata": {},
   "outputs": [],
   "source": []
  }
 ],
 "metadata": {
  "kernelspec": {
   "display_name": "Python 3 (ipykernel)",
   "language": "python",
   "name": "python3"
  },
  "language_info": {
   "codemirror_mode": {
    "name": "ipython",
    "version": 3
   },
   "file_extension": ".py",
   "mimetype": "text/x-python",
   "name": "python",
   "nbconvert_exporter": "python",
   "pygments_lexer": "ipython3",
   "version": "3.9.7"
  }
 },
 "nbformat": 4,
 "nbformat_minor": 4
}
