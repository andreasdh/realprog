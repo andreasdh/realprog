{
 "cells": [
  {
   "cell_type": "markdown",
   "id": "951b9d39",
   "metadata": {},
   "source": [
    "# Naturvitenskap VGS\n",
    "\n",
    "Her finner du opplegg rettet mot undervisning i naturfag, fysikk, kjemi og biologi.\n",
    "\n",
    "[Naturfag: Nedarving](nedarving.ipynb)\n",
    "\n",
    "[Felles: Datahåndtering](datahandtering.ipynb)\n",
    "\n",
    "[Fysikk: Simulering av kinematikk](fysikk_kinematikk.ipynb)\n",
    "\n",
    "[Biologi: Simulering av populasjonsdynamikk](biologi_populasjonsdynamikk.ipynb)\n",
    "\n",
    "[Kjemi: Periodiske egenskaper](kjemi_periodiske_egenskaper.ipynb)\n",
    "\n",
    "[Kjemi: Kjemiske beregninger](kjemiske_beregninger.ipynb)"
   ]
  }
 ],
 "metadata": {
  "kernelspec": {
   "display_name": "Python 3 (ipykernel)",
   "language": "python",
   "name": "python3"
  },
  "language_info": {
   "codemirror_mode": {
    "name": "ipython",
    "version": 3
   },
   "file_extension": ".py",
   "mimetype": "text/x-python",
   "name": "python",
   "nbconvert_exporter": "python",
   "pygments_lexer": "ipython3",
   "version": "3.8.5"
  }
 },
 "nbformat": 4,
 "nbformat_minor": 5
}
