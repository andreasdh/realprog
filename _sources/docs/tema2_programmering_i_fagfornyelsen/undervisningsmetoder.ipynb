{
 "cells": [
  {
   "cell_type": "markdown",
   "metadata": {},
   "source": [
    "# Undervisningsmetoder\n",
    "Det finnes mange måter å undervise programmering på, og både forskning og erfaring kan fortelle oss en del om hva som faktisk virker. Det viktigste er å ta hensyn til generelle pedagogiske prinsipper når du velger metode, slik at du ikke velger metode blindt. Noen ting du kan tenke på når du velger eller lager programmeringsoppgaver, er:\n",
    "\n",
    "- Hva målet er med undervisningen. Hvis for eksempel målet er å lære løkker og gjentakende strukturer, kan det være gunstig å bruke andre metoden enn hvis målet er å forstå hvordan en tallfølge utvikler seg.\n",
    "- Hva målgruppen er. Elever på høyere nivå trenger større og mer åpne oppgaver enn elever som akkurat skal lære seg å programmere.\n",
    "- Hvor heterogen målgruppen er. Oppgaver kan utformes på ulike måter, noe som gir muligheter for differensiering. Se [her](https://realprog.no/docs/fagmoduler/stokastiske_simuleringerS1.html) for et eksempel på hvordan samme oppgave kan nivådifferensieres.\n",
    "\n",
    "La oss nå se på ulike metoder som du kan benytte i undervisningen.\n",
    "\n",
    "| Metode | Kort forklaring |\n",
    "| --- | :--- |\n",
    "| Bruk av analogier og konkreter | Noen konsepter som variabler og objekter kan være greit å illustrere med noe konkret.|\n",
    "|Liveprogrammering | Læreren programmerer et program live i klasserommet. Her kan en f.eks. stille spørsmål underveis, be elevene/studentene fortsette på koden og legge inn (bevisst og ubevisst) feil som en kan feilsøke sammen.|\n",
    "|Parprogrammering|To arbeider sammen. Én skriver kode, en annen dikterer hva vedkommende skal skrive.|\n",
    "|Diskuter hva programmet gjør|Introduksjon til temaer eller faglige poenger vha. korte, intuitive kodesnutter som elevene kanskje kan skjønne uten å kjenne syntaksen.|\n",
    "|Utfylling|Kode kan lages med noen linjer som mangler, og som elevene skal fylle inn, enten live eller som oppgaver.|\n",
    "|Programmeringspuslespill (Parsons-problemer)|Programlinjene er gitt, men i feil rekkefølge. Fokuset blir på problemløsning, ikke syntaks. Nettbaserte puslespill kan brukes.|\n",
    "|Flytskjemaer|Bruk av flytskjemaer til å systematisere vilkår.|\n",
    "|Sammenlikninger|Sammenlikne hva to nesten like kodesnutter gjør. Kan være fokus på syntaks eller den realfaglige problemstillingen.|\n",
    "|Feilsøking og feilretting|Finn feilen i koden når koden er gitt. Feilen kan være av algoritmisk (realfaglig) eller syntaktisk art.|\n",
    "|Begrepsalias|Spillet alias med viktige begreper som variabel, tilordning, parameter, funksjon, vilkår osv.|\n",
    "|Pseudokode|Uformell beskrivelse av et dataprogram. Legg vekt på logikk framfor syntaks. Beskrive eller utforme pseudokoden selv.|\n",
    "|PRIMM|Gradvis oppbygging av oppgaven (Predict-Run-Investigate-Modify-Make).|\n",
    "\n",
    "```{admonition} Undervisningsopplegg\n",
    ":class: tip\n",
    "Lag et undervisningsopplegg som inneholder programmering i et av dine fag. Gjør rede for læringsmål, formål, metode og aktivitet. Knytt også opplegget til læreplanen (kompetansemål, grunnleggende ferdigheter, kjerneelementer og tverrfaglige temaer).\n",
    "```\n",
    "\n",
    "Vi kan også differensiere oppgaver ved å benytte blokkbasert programmering i tillegg til tekstbasert programmering. Ser [denne siden](https://realprog.no/docs/tema2_programmering_i_fagfornyelsen/blokkprogrammering.html) for mer om dette."
   ]
  },
  {
   "cell_type": "markdown",
   "metadata": {},
   "source": [
    "## 1. Bruk av analogier og konkreter\n",
    "Noen programmeringskonsepter kan fint illustreres med fysiske analoger. For eksempel:\n",
    "\n",
    "- Variabler som bokser/skuffer. Dersom du putter en ny ting (for eksempel en sokk) i skuffen, blir dette det samme som \"skuff = skuff + 1\"\n",
    "- Dersom du skal undervise i objektorientert programmering, kan det være nyttig å sammenlikne objekter som fysiske objekter med felles egenskaper og ulike egenskaper. For eksempel kan en klasse være \"Glass\", der vi lager ulike objekter, som alle er glass med en del felles egenskaper. Deretter kan vi bruke metoder til å endre egenskapene til noen av glassene, slik at vi får glass med for eksempel ulikt volum og ulik varmeledningsevne.\n",
    "\n",
    "## 2. Liveprogrammering\n",
    "Livekoding betyr at læreren programmerer for elevene i undervisningsøkta. Dette er mye mer effektivt enn å presentere masse ferdig kode på en PP eller liknende. Du trenger ikke lage programmet lineært - ta heller elevene med på en reise i hvordan du tenker når du skal bygge opp programmet. Og la gjerne elevene hjelpe deg. En mulig framgangsmåte er slik:\n",
    "\n",
    "1. Skisser hva programmet skal gjøre. Gjerne med pseudokode på tavla, avhengig av kompleksiteten på problemet.\n",
    "2. Lag litt av programmet.\n",
    "3. Spør elevene underveis om hva neste linje skal være, hva vi mangler eller om programmet kan fungere som det er. La gjerne elevene diskutere parvis innimellom.\n",
    "4. Evaluer programmet, gjerne gruppevis, før det kjøres.\n",
    "5. Legg eventuelt inn feil i programmet underveis som elevene må rette opp i plenum (eller kanskje dukker de opp automatisk hvis du liveprogrammerer uten å forberede deg!).\n",
    "\n",
    "## 3. Parprogrammering\n",
    "Parprogrammering kan være en måte å sikre at alle elevene er aktive når de samarbeider. Det går ut på at én elev sier hva den andre skal programmere, mens den andre bare programmerer. Den ene eleven må da formidle det han/hun ønsker å gjøre på en god nok måte til at den andre eleven forstår dette. Deretter byttes rollene. Metoden sikrer at begge elevene er involverte i både programmeringen og den algoritmiske tenkningen.\n",
    "\n",
    "__Eksempeloppgaver__\n",
    "1. Lag et program som tar to tall som input og skriver ut hvilket av disse tallene som er størst.\n",
    "2. Lag et program som beregner og skriver ut summen av de 100 første naturlige tallene.\n",
    "3. Lag et program som beregner volumet til en kule og/eller en sylinder ($V_{kule}=\\frac{4}{3}\\pi r^3$, $V_{sylinder}=\\pi r ^2h$)\n",
    "4. Lag et program som regner ut denne summen:\n",
    "\n",
    "$$\\sum_{n=2}^{16} ((n^2 + 1) + n)$$\n",
    "\n",
    "## 4. Diskutere programmer\n",
    "Det ligger mye læring i å diskutere hva et program gjør, både før og etter at en har kjørt det. Et program kan forklares på overordna nivå og linje for linje. Begge deler gir god læring, men fokuset bør være på hvordan programmet løser et problem, ikke på syntaksdetaljer.\n",
    "\n",
    "Eksempel: Hva gjør dette programmet?"
   ]
  },
  {
   "cell_type": "code",
   "execution_count": 1,
   "metadata": {},
   "outputs": [],
   "source": [
    "startbeløp = 25000\n",
    "rente = 5.5         \n",
    "beholdning = startbeløp \n",
    "år = 0\n",
    "\n",
    "while beholdning <= 2*startbeløp:\n",
    "    beholdning = beholdning + (rente/100)*beholdning\n",
    "    år = år + 1"
   ]
  },
  {
   "cell_type": "markdown",
   "metadata": {},
   "source": [
    "## 5. Utfylling\n",
    "Å fylle inn det som mangler kan gi god forståelse av hvordan et program fungerer og hva som må til for å løse det realfaglige problemet. Du kan lage halvferdige programmer i f.eks. [Trinket](https://trinket.io/). Disse kan deles med elevene dersom du sparer på lenka. Programmene du lager på Trinket, blir lagret, men du kan ikke endre dem dersom du ikke har et abonnement. Et abonnement er derimot ikke dyrt, og anbefales sterkt.\n",
    "\n",
    "<iframe src=\"https://trinket.io/embed/python3/d956ddae24\" width=\"100%\" height=\"600\" frameborder=\"0\" marginwidth=\"0\" marginheight=\"0\" allowfullscreen></iframe>\n",
    "<iframe src=\"https://trinket.io/embed/python3/86192d4bba\" width=\"100%\" height=\"600\" frameborder=\"0\" marginwidth=\"0\" marginheight=\"0\" allowfullscreen></iframe>"
   ]
  },
  {
   "cell_type": "markdown",
   "metadata": {},
   "source": [
    "## 6. Parsons-problemer (programmeringspuslespill)\n",
    "\n",
    "Programmeringspuslespill (også kalt Parsons-problemer) legger fokus på logikk og struktur, ikke syntaks. Her kommer hver linje ferdig, og oppgava er å finne rekkefølge og struktur. Parsons-problemer er faktisk vist å være en svært god metode for å få fram forståelse av programmene og det realfaglige innholdet. Dessuten er det en del enklere enn å måtte lage et program helt fra begynnelsen av. Du kan klippe, lime og laminere puslespill, men det finnes også digitale varianter, for eksempel http://parsons.problemsolving.io/. Husk derimot at den digitale versjonen kun tillater én løsning – pass derfor på at du lager puslespill som ikke har altfor mange tillatte varianter. Husk også å bruke korrekte innrykk. For å teste metoden, kan du prøve ut [dette puslespillet](https://parsons.problemsolving.io/puzzle/8178c7fedfe9475da972e7d4c92db73f), som skal bli et program som avgjør maksimumsverdien i en liste gjennom en Python-funksjon."
   ]
  },
  {
   "cell_type": "markdown",
   "metadata": {},
   "source": [
    "## 7. Flytskjemaer\n",
    "Flytskjemaer kan være et fint virkemiddel for å sortere logiske slutninger og vilkår. For eksempel kan vi lage flytskjemaer for å beskrive ulike utfall i disse situasjonene:\n",
    "\n",
    "1. Bestemmelsesnøkkel i biologi.\n",
    "2. pH - Hva er sur, basisk og nøytral løsning?\n",
    "3. Er trekanten likebeint, likesidet eller ingen av delene?\n",
    "\n",
    "Eksempel:"
   ]
  },
  {
   "cell_type": "code",
   "execution_count": 17,
   "metadata": {
    "tags": [
     "remove-input"
    ]
   },
   "outputs": [
    {
     "data": {
      "text/html": [
       "<img src=\"https://www.uio.no/studier/emner/matnat/natfag/NAT3000/h21/ressurser/flytskjema.png\" width=\"500\" height=\"500\"/>"
      ],
      "text/plain": [
       "<IPython.core.display.Image object>"
      ]
     },
     "execution_count": 17,
     "metadata": {},
     "output_type": "execute_result"
    }
   ],
   "source": [
    "from IPython.display import Image\n",
    "from IPython.core.display import HTML \n",
    "Image(url=\"https://www.uio.no/studier/emner/matnat/natfag/NAT3000/h21/ressurser/flytskjema.png\", width=500, height=500)"
   ]
  },
  {
   "cell_type": "markdown",
   "metadata": {},
   "source": [
    "## 8. Sammenlikninger\n",
    "\n",
    "Å sammenlikne programmer kan gi god forståelse av programstruktur og det realfaglige innholdet.\n",
    "\n",
    "Kodeteknisk eksempel: Hva blir output fra de to kodesnuttene nedenfor?"
   ]
  },
  {
   "cell_type": "code",
   "execution_count": 21,
   "metadata": {
    "collapsed": true,
    "tags": [
     "remove-output"
    ]
   },
   "outputs": [
    {
     "name": "stdout",
     "output_type": "stream",
     "text": [
      "1\n",
      "2\n",
      "3\n",
      "4\n",
      "5\n",
      "6\n",
      "7\n",
      "8\n",
      "9\n",
      "10\n"
     ]
    }
   ],
   "source": [
    "a = 0\n",
    "while a < 10:\n",
    "    a = a + 1\n",
    "    print(a)"
   ]
  },
  {
   "cell_type": "code",
   "execution_count": 20,
   "metadata": {
    "collapsed": true,
    "tags": [
     "remove-output"
    ]
   },
   "outputs": [
    {
     "name": "stdout",
     "output_type": "stream",
     "text": [
      "10\n"
     ]
    }
   ],
   "source": [
    "b = 10\n",
    "while b < 10:\n",
    "    b = b + 1\n",
    "print(b)"
   ]
  },
  {
   "cell_type": "markdown",
   "metadata": {},
   "source": [
    "Realfaglig eksempel: Hva gjør de to programsnuttene nedenfor?"
   ]
  },
  {
   "cell_type": "code",
   "execution_count": 31,
   "metadata": {
    "collapsed": true,
    "tags": [
     "remove-output"
    ]
   },
   "outputs": [
    {
     "name": "stdout",
     "output_type": "stream",
     "text": [
      "Løsningen har pH = 6.920818753952375 og er sur.\n"
     ]
    }
   ],
   "source": [
    "from pylab import *\n",
    "\n",
    "oksonium = 1.2E-7\n",
    "pH = -log10(oksonium)\n",
    "if pH > 7:\n",
    "    print(\"Løsningen har pH =\", pH, \"og er basisk.\")\n",
    "elif pH < 7:\n",
    "    print(\"Løsningen har pH =\", pH, \"og er sur.\")\n",
    "else:\n",
    "    print(\"Løsningen har pH =\", pH, \"og er nøytral.\")"
   ]
  },
  {
   "cell_type": "code",
   "execution_count": 32,
   "metadata": {
    "collapsed": true,
    "tags": [
     "remove-output"
    ]
   },
   "outputs": [
    {
     "name": "stdout",
     "output_type": "stream",
     "text": [
      "Løsningen har pH = 6.920818753952375 og er nøytral.\n"
     ]
    }
   ],
   "source": [
    "from pylab import *\n",
    "\n",
    "oksonium = 1.2E-7\n",
    "pH = -log10(oksonium)\n",
    "tol = 0.1\n",
    "if pH > (7 + tol):\n",
    "    print(\"Løsningen har pH =\", pH, \"og er basisk.\")\n",
    "elif pH < (7 - tol):\n",
    "    print(\"Løsningen har pH =\", pH, \"og er sur.\")\n",
    "else:\n",
    "    print(\"Løsningen har pH =\", pH, \"og er nøytral.\")"
   ]
  },
  {
   "cell_type": "markdown",
   "metadata": {},
   "source": [
    "## 9. Feilsøking og feilretting\n",
    "Det å finne både egne og andres feil gir god trening i både programmering og god forståelse i det realfaglige innholdet. I feilsøkingsoppgaver anbefales det å legge inn feil i det realfaglige innholdet, ikke i syntaksen. Det gir mer realfaglig læring i å finne ut at den kinetiske energien ikke stemmer enn at det mangler et kolon på linje 7.\n",
    "\n",
    "Eksempel: Programmet skal regne ut hvor lang tid det tar å doble et beløp i banken med 3 % rente og et årlig sparebeløp. Programmet fungerer ikke som det skal – hva er feil, og hvordan kan vi rette opp i feilen? "
   ]
  },
  {
   "cell_type": "code",
   "execution_count": null,
   "metadata": {},
   "outputs": [],
   "source": [
    "startkapital = 10000\n",
    "rente = 0.03\n",
    "sparing = 500\n",
    "tid = 0\n",
    "sluttsum = startkapital*2\n",
    "kapital = startkapital\n",
    "while kapital <= sluttsum:\n",
    "    kapital = kapital*rente + sparing\n",
    "    tid = tid + 1\n",
    "print(\"Det tar\", tid \"år å doble beløpet.\")"
   ]
  },
  {
   "cell_type": "markdown",
   "metadata": {},
   "source": [
    "## 10. Pseudokode\n",
    "\n",
    "Pseudokode er en beskrivelse av en algoritme eller programkode som teknisk sett kan oversettes til alle programmeringsspråk. Det finnes ingen absolutte standarder for pseudokode - det viktigste er at hovedideene formidles på en god måte. Å beskrive en pseudokode kan være en fin måte å formidle det realfaglige innholdet under for eksempel en muntlig eksamen. For eksempel kan en i naturfag be elevene om å beskrive en pseudokode for å simulere enkel nedarving av øyenfarge. Her er det også viktig å formidle hvordan algoritmen/programmet beskriver det realfaglige innholdet, og hva som er begrensninger og forutsetninger som ligger til grunn for algoritmen.\n",
    "\n",
    "Her er et eksempel på en pseudokode som beskriver en algoritme for å finne kvadratroten av et tall:"
   ]
  },
  {
   "cell_type": "markdown",
   "metadata": {},
   "source": [
    "a = 12\n",
    "\n",
    "x_gammel = 3.5\n",
    "\n",
    "gjenta n ganger:\n",
    "- x_ny = 0.5*(x_gammel + a/x_gammel)\n",
    "- x_gammel = x_ny"
   ]
  },
  {
   "cell_type": "markdown",
   "metadata": {},
   "source": [
    "## PRIMM\n",
    "\n",
    "PRIMM er en metode som er utviklet av Susan Sentance og står for Predict-Run-Investigate-Modify-Make. Når vi lager en aktivitet med programmering, kan vi bruke deler av eller hele denne prosedyren:\n",
    "\n",
    "1.\tForklar hva programmet gjør. Her må elevene analysere det realfaglige problemet og dekode problemstillingen. Dette blir elevenes hypotese.\n",
    "2.\tKjør programmet. Stemmer hypotesen? Hva sier resultatet oss?\n",
    "3.\tUforsk programmet. Prøv å endre på noen variabler og se hva som skjer. Her gjelder variabelkontroll på samme måte som i et naturvitenskapelig eksperiment.\n",
    "4.\tModifiser programmet. Gjør noen endringer i premisser eller metoder og tolk resultatene.\n",
    "5.\tSkap et nytt program. Lag et nytt program med utgangspunkt i programmet som er brukt i de foregående punktene.\n",
    "\n",
    "Det er flere eksempler på denne sida for hvordan du kan bruke PRIMM til å designe programmeringsoppgaver, for eksempel disse oppgavene fra [matematikk 1P](https://realprog.no/docs/fagmoduler/matematikk1P.html), [fysikk](https://realprog.no/docs/fagmoduler/fysikk_kinematikk.html) og [biologi](https://realprog.no/docs/fagmoduler/biologi_populasjonsdynamikk.html)."
   ]
  },
  {
   "cell_type": "markdown",
   "metadata": {},
   "source": [
    "## Prosjektoppgaver\n",
    "Noen ganger har en mulighet til å sette av tid til større, åpne oppgaver der elevene skal sette seg inn i en sammensatt problemstilling som enten er gitt eller selvvalgt. Spesielt modellering egner seg til slike prosjekter. Du kan finne et eksempel på [et slik prosjekt her](https://realprog.no/docs/tema5_modellering/modelleringsprosjekt_smitte.html). Arbeid med slike prosjekter tar en del tid, men de stimulerer til refleksjon, samarbeid krativitet og meningssøking på en svært god måte. Her er det også mange muligheter for å jobbe tverrfaglig!\n",
    "\n",
    "Elevene kan bruke for eksempel Jupyter Notebook til å skrive rapporter fra prosjektene. Da får de anledning til å beskrive teorien, modellene og framgangsmåten integrert sammen med koden."
   ]
  }
 ],
 "metadata": {
  "celltoolbar": "Edit Metadata",
  "kernelspec": {
   "display_name": "Python 3 (ipykernel)",
   "language": "python",
   "name": "python3"
  },
  "language_info": {
   "codemirror_mode": {
    "name": "ipython",
    "version": 3
   },
   "file_extension": ".py",
   "mimetype": "text/x-python",
   "name": "python",
   "nbconvert_exporter": "python",
   "pygments_lexer": "ipython3",
   "version": "3.11.4"
  }
 },
 "nbformat": 4,
 "nbformat_minor": 4
}
