{
 "cells": [
  {
   "cell_type": "markdown",
   "id": "5cbeb8bb",
   "metadata": {},
   "source": [
    "# Matematikk VGS\n",
    "\n",
    "Her finner du opplegg rettet mot undervisning i T-, P-, R- og S-matte:\n",
    "\n",
    "[1T: Andregradslikninger](matematikk1T_andregrads.ipynb)\n",
    "\n",
    "[1T: Løsing av likninger](matematikk1T_likninger.ipynb)\n",
    "\n",
    "[1T: Løsing av likninger II](likninger_oppgave1.ipynb)\n",
    "\n",
    "[1P: Økonomi og vekstfaktor](matematikk1P.ipynb)\n",
    "\n",
    "[S1: Stokastiske simuleringer](stokastiske_simuleringerS1.ipynb)\n",
    "\n",
    "[R1: Numerisk derivasjon](numerisk_derivasjon_R.ipynb)\n",
    "\n",
    "[R2: Tallmønstre](tallmønstre_R_S.ipynb)\n",
    "\n",
    "[R2: Numerisk integrasjon (peker til teorisida om numerisk integrasjon)](../tema4_numeriske_metoder/integrasjon.ipynb)"
   ]
  }
 ],
 "metadata": {
  "kernelspec": {
   "display_name": "Python 3 (ipykernel)",
   "language": "python",
   "name": "python3"
  },
  "language_info": {
   "codemirror_mode": {
    "name": "ipython",
    "version": 3
   },
   "file_extension": ".py",
   "mimetype": "text/x-python",
   "name": "python",
   "nbconvert_exporter": "python",
   "pygments_lexer": "ipython3",
   "version": "3.8.5"
  }
 },
 "nbformat": 4,
 "nbformat_minor": 5
}
